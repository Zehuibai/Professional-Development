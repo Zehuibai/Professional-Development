{
 "cells": [
  {
   "cell_type": "markdown",
   "metadata": {},
   "source": [
    "# Python Primer\n",
    "\n",
    "This is an optional activity for those who are not familiar with Python, but have experience in some other programming language. It is a simple introduction to the Python programming language stressing some concepts we are going to use in the course. This should be enough to get started, some other concepts you will see on the fly during the course."
   ]
  },
  {
   "cell_type": "markdown",
   "metadata": {},
   "source": [
    "And now let's start with the Python primer!"
   ]
  },
  {
   "cell_type": "code",
   "execution_count": null,
   "metadata": {},
   "outputs": [],
   "source": [
    "# Comments start with a '#' sign. \n",
    "# you can print with the print() function\n",
    "print(\"Hello, World!\")\n",
    "# the assignent to a variable is done with = \n",
    "a = 1\n",
    "print(a)"
   ]
  },
  {
   "cell_type": "markdown",
   "metadata": {},
   "source": [
    "## 1 - Basic data types\n",
    "\n",
    "We first are going to quickly review the basic data types in Python, and what operations we can do with them."
   ]
  },
  {
   "cell_type": "code",
   "execution_count": null,
   "metadata": {},
   "outputs": [],
   "source": [
    "# 1.1 Numbers\n",
    "# integers\n",
    "a = 1\n",
    "print(a)\n",
    "print(type(a))\n",
    "# floats\n",
    "b = 2.0 \n",
    "print(b)\n",
    "print(type(b))"
   ]
  },
  {
   "cell_type": "code",
   "execution_count": null,
   "metadata": {},
   "outputs": [],
   "source": [
    "# you can do the basic operations as expected\n",
    "print(a+b)\n",
    "print(a-b)\n",
    "print(a*b)\n",
    "print(a/b)\n",
    "# you can do the logical comparisons as expected\n",
    "print(a==b)\n",
    "print(a!=b)\n",
    "print(a>b)\n",
    "print(a<b)"
   ]
  },
  {
   "cell_type": "code",
   "execution_count": null,
   "metadata": {},
   "outputs": [],
   "source": [
    "# 1.2 strings\n",
    "c = \"I am a string\"\n",
    "print(c)\n",
    "# you can use single or double quotes\n",
    "d = 'another string'\n",
    "# you can concatenate strings with the + operator\n",
    "print(c+d)\n",
    "print(c+\", \"+d)"
   ]
  },
  {
   "cell_type": "code",
   "execution_count": null,
   "metadata": {},
   "outputs": [],
   "source": [
    "# 1.3 Booleans\n",
    "# Booleans are True or False (observe the capital first letter!)\n",
    "print(True==True)\n",
    "print(False==True)"
   ]
  },
  {
   "cell_type": "markdown",
   "metadata": {},
   "source": [
    "## 2- Basic data structures\n",
    "\n",
    "We are going to review to basic data structures in Python, lists and dictionaries."
   ]
  },
  {
   "cell_type": "code",
   "execution_count": null,
   "metadata": {},
   "outputs": [],
   "source": [
    "# 2.1 Lists \n",
    "# lists can contain elements of any type, you can define them with square brackets\n",
    "alist = [10, 20, a, b, c, d]\n",
    "print(alist)\n",
    "# check if an element is in the list\n",
    "print( 20 in alist)\n",
    "# add elements \n",
    "alist.append(50)\n",
    "print(alist)\n",
    "# reference elements: index starts at 0 in python!\n",
    "print(alist[0])\n",
    "print(alist[2])\n",
    "print(alist[-1])\n",
    "# change an element\n",
    "alist[0] = 100 \n",
    "print(alist)"
   ]
  },
  {
   "cell_type": "code",
   "execution_count": null,
   "metadata": {},
   "outputs": [],
   "source": [
    "# 2.2 Dictionaries \n",
    "# define a dictionary with curly brackets\n",
    "adict = {'a': 1, 'b': [1,2,3]}\n",
    "# retrieve element by key\n",
    "print(adict['a'])\n",
    "print(adict['b'])\n",
    "# add an element \n",
    "adict['c'] = \"a string\"\n",
    "print(adict)"
   ]
  },
  {
   "cell_type": "markdown",
   "metadata": {},
   "source": [
    "## 3 - Fow Control \n",
    "\n",
    "We will learn how to use the basic flow control structures in Python: for loops and if - elif - else statements"
   ]
  },
  {
   "cell_type": "code",
   "execution_count": null,
   "metadata": {},
   "outputs": [],
   "source": [
    "# 3.1 For loops\n",
    "numbers = [1,2,3,4,5]\n",
    "print(numbers)\n",
    "\n",
    "# for loop, observe the indentation and the colon!\n",
    "for n in numbers: \n",
    "    print(n)"
   ]
  },
  {
   "cell_type": "code",
   "execution_count": null,
   "metadata": {},
   "outputs": [],
   "source": [
    "# 3.2 If, elif, else\n",
    "a = 10 \n",
    "if a <= 3:\n",
    "    print(\"A\")\n",
    "elif a>3 and a<=7:\n",
    "    print(\"B\")\n",
    "else:\n",
    "    print(\"C\") \n"
   ]
  },
  {
   "cell_type": "markdown",
   "metadata": {},
   "source": [
    "## 4 - Pandas dataframes\n",
    "\n",
    "In Python there is not a native dataframe data type, therefore we need to use a third party package. The most used at the moment is pandas. In order to use it, the first thing we need to do is to import it. We can then use the keyword \"as\" to give it a shorter alias, by convention \"pd\". Once imported we can access its methods (functions insdide an object) with the dot."
   ]
  },
  {
   "cell_type": "code",
   "execution_count": null,
   "metadata": {},
   "outputs": [],
   "source": [
    "import pandas as pd\n",
    "\n",
    "# Let's define a simple dataframe from a dictionary of lists, where each list is a column\n",
    "patients = ['patient1', 'patient2', 'patient3']\n",
    "age = [60, 65, 70]\n",
    "dead = [True, False, True]\n",
    "disease = ['lung cancer', 'diabetes', 'coronary disease']\n",
    "\n",
    "# the keys in the dictionary will be the column names\n",
    "datadict = {'patients': patients, \n",
    "    'age': age,\n",
    "    'dead': dead,\n",
    "    'disease': disease}\n",
    "\n",
    "# define a dataframe\n",
    "df = pd.DataFrame(datadict)\n",
    "# By default, the Jupyter Notebook will display the last object in the cell\n",
    "df"
   ]
  },
  {
   "cell_type": "markdown",
   "metadata": {},
   "source": [
    "Now, let's explore our dataframe"
   ]
  },
  {
   "cell_type": "code",
   "execution_count": null,
   "metadata": {},
   "outputs": [],
   "source": [
    "# describe numerical variables (use include='all' to include everything)\n",
    "df.describe()\n"
   ]
  },
  {
   "cell_type": "code",
   "execution_count": null,
   "metadata": {},
   "outputs": [],
   "source": [
    "# As you have seen Jupyter displays the last object in the cell, but you can also use the print function\n",
    "# to print objects explicitly in the middle of the cell\n",
    "# how many rows (observations)\n",
    "print(len(df))\n",
    "# what columns do I have?\n",
    "df.columns"
   ]
  },
  {
   "cell_type": "code",
   "execution_count": null,
   "metadata": {},
   "outputs": [],
   "source": [
    "# What are the data types?\n",
    "df.dtypes"
   ]
  },
  {
   "cell_type": "code",
   "execution_count": null,
   "metadata": {},
   "outputs": [],
   "source": [
    "# In addition to the print function we can also use the display function to show objects in a nicer format\n",
    "from IPython.display import display\n",
    "# look at one column\n",
    "display(df['dead'])\n",
    "# the dot notation also works\n",
    "df.dead"
   ]
  },
  {
   "cell_type": "code",
   "execution_count": null,
   "metadata": {},
   "outputs": [],
   "source": [
    "# look at the top n rows\n",
    "df.head(5)"
   ]
  },
  {
   "cell_type": "code",
   "execution_count": null,
   "metadata": {},
   "outputs": [],
   "source": [
    "# slicing and filtering with the loc method\n",
    "df.loc[df['dead']==True]"
   ]
  },
  {
   "cell_type": "code",
   "execution_count": null,
   "metadata": {},
   "outputs": [],
   "source": [
    "# get only a couple of columns\n",
    "df.loc[df.dead==True, ['patients', 'disease']]"
   ]
  },
  {
   "cell_type": "code",
   "execution_count": null,
   "metadata": {},
   "outputs": [],
   "source": [
    "# get elemennts that are in a list\n",
    "df.loc[df['disease'].isin(['diabetes', 'coronary disease'])]"
   ]
  },
  {
   "cell_type": "code",
   "execution_count": null,
   "metadata": {},
   "outputs": [],
   "source": [
    "# adding a new columns\n",
    "df['new_columns'] = df.age/2\n",
    "df"
   ]
  },
  {
   "cell_type": "markdown",
   "metadata": {},
   "source": [
    "## 5- Functions\n",
    "\n",
    "We will learn how to define functions in Python and use them togheter with pandas dataframes."
   ]
  },
  {
   "cell_type": "code",
   "execution_count": null,
   "metadata": {},
   "outputs": [],
   "source": [
    "# We define functions with the keyword \"def\"\n",
    "# return is mandatory, observe the indentation and the colon!\n",
    "def mult(number):\n",
    "    return number*2\n",
    "\n",
    "print(mult(5))"
   ]
  },
  {
   "cell_type": "code",
   "execution_count": null,
   "metadata": {},
   "outputs": [],
   "source": [
    "# we can use default arguments when defining our functions\n",
    "def mult2(number, multiplier=2):\n",
    "    return number*multiplier\n",
    "print(mult2(5))\n",
    "print(mult2(5, multiplier=5))"
   ]
  },
  {
   "cell_type": "markdown",
   "metadata": {},
   "source": [
    "Let's say we want to recode a column in our dataframe, we can define a function to do so and then use apply"
   ]
  },
  {
   "cell_type": "code",
   "execution_count": null,
   "metadata": {},
   "outputs": [],
   "source": [
    "# recoding with apply \n",
    "def remap_disease(disease):\n",
    "    if disease == \"lung cancer\":\n",
    "        return 'LC'\n",
    "    elif disease == 'diabetes':\n",
    "        return 'DB'\n",
    "    elif disease == 'CD':\n",
    "        return 'CD'\n",
    "    else: \n",
    "        return 'ERROR'\n",
    "\n",
    "# let's first test with a single string\n",
    "print(remap_disease('diabetes')) "
   ]
  },
  {
   "cell_type": "code",
   "execution_count": null,
   "metadata": {},
   "outputs": [],
   "source": [
    "# now recode the whole column with apply\n",
    "df['disease3'] = df['disease'].apply(remap_disease)\n",
    "# let's look at the result\n",
    "df.head() "
   ]
  }
 ],
 "metadata": {
  "kernelspec": {
   "display_name": "Python 3 (ipykernel)",
   "language": "python",
   "name": "python3"
  },
  "language_info": {
   "codemirror_mode": {
    "name": "ipython",
    "version": 3
   },
   "file_extension": ".py",
   "mimetype": "text/x-python",
   "name": "python",
   "nbconvert_exporter": "python",
   "pygments_lexer": "ipython3",
   "version": "3.10.6"
  }
 },
 "nbformat": 4,
 "nbformat_minor": 2
}
